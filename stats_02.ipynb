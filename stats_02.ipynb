{
 "cells": [
  {
   "cell_type": "code",
   "execution_count": 1,
   "id": "533fe480",
   "metadata": {},
   "outputs": [],
   "source": [
    "# CTL Central Limit Theorem"
   ]
  },
  {
   "cell_type": "code",
   "execution_count": 73,
   "id": "6ee27f90",
   "metadata": {},
   "outputs": [],
   "source": [
    "from scipy import stats\n",
    "import statistics\n",
    "import pandas as pd"
   ]
  },
  {
   "cell_type": "code",
   "execution_count": 3,
   "id": "69288ab9",
   "metadata": {},
   "outputs": [],
   "source": [
    "# 1. random distribution \n",
    "# 2. mean == median \n",
    "# 3. take sample from population \n",
    "# 4. taken sample also a normal distribution \n",
    "# 5. sample mean =. pop- mean "
   ]
  },
  {
   "cell_type": "code",
   "execution_count": 4,
   "id": "d7a78d31",
   "metadata": {},
   "outputs": [],
   "source": [
    "import numpy as np"
   ]
  },
  {
   "cell_type": "code",
   "execution_count": 30,
   "id": "43133881",
   "metadata": {},
   "outputs": [],
   "source": [
    "pop_values = np.random.normal(loc = 20, scale = 2, size = 100)"
   ]
  },
  {
   "cell_type": "code",
   "execution_count": null,
   "id": "4d05a607",
   "metadata": {},
   "outputs": [],
   "source": []
  },
  {
   "cell_type": "code",
   "execution_count": 31,
   "id": "d312225a",
   "metadata": {},
   "outputs": [
    {
     "data": {
      "text/plain": [
       "array([25.45381936, 20.54969261, 19.80302945, 22.88979795, 18.48026036,\n",
       "       19.14139042, 20.44498569, 22.34993408, 20.32655038, 18.28739661,\n",
       "       18.61462065, 21.52778032, 19.43373872, 23.60628205, 22.03047216,\n",
       "       17.85369732, 20.20272272, 20.09768359, 17.67270658, 22.66843456,\n",
       "       19.56850978, 22.15068674, 18.62282267, 19.93660344, 21.7470671 ,\n",
       "       22.6797121 , 24.41558488, 18.37607746, 19.20545251, 20.57287955,\n",
       "       18.59190736, 18.50597686, 17.54477511, 23.11297927, 22.39495467,\n",
       "       21.83713107, 23.2672422 , 17.97333798, 22.68840617, 18.2821173 ,\n",
       "       21.73540985, 19.53100724, 20.12499465, 22.3836689 , 17.82074986,\n",
       "       27.64570235, 19.09103864, 20.25882025, 23.65414338, 15.95666838,\n",
       "       22.62558327, 18.48194465, 16.65551347, 20.95490039, 21.96661665,\n",
       "       21.31538142, 21.80084558, 16.08399193, 19.99254445, 17.80926371,\n",
       "       21.3005308 , 20.74982564, 14.8896256 , 16.64060097, 17.78036815,\n",
       "       19.52160131, 15.21895653, 22.64375532, 21.0923494 , 17.78334409,\n",
       "       21.02610912, 22.15253372, 20.54840643, 17.63401493, 19.03989863,\n",
       "       20.20316329, 21.86486289, 23.07496633, 19.71620293, 16.68831307,\n",
       "       20.19919761, 17.81476069, 21.1611747 , 19.81966031, 19.58323578,\n",
       "       17.22610604, 17.12268708, 16.69149928, 16.44891653, 20.0927702 ,\n",
       "       16.57759322, 20.95971848, 19.22127716, 19.79693844, 20.81555721,\n",
       "       17.79795757, 13.69044768, 15.10953041, 16.8336931 , 19.30459854])"
      ]
     },
     "execution_count": 31,
     "metadata": {},
     "output_type": "execute_result"
    }
   ],
   "source": [
    "pop_values"
   ]
  },
  {
   "cell_type": "code",
   "execution_count": 35,
   "id": "e7dc79da",
   "metadata": {},
   "outputs": [
    {
     "data": {
      "text/plain": [
       "19.846347579874276"
      ]
     },
     "execution_count": 35,
     "metadata": {},
     "output_type": "execute_result"
    }
   ],
   "source": [
    "# Finding pop mean value \n",
    "\n",
    "np.mean(pop_values)"
   ]
  },
  {
   "cell_type": "code",
   "execution_count": 36,
   "id": "e3ebe3c0",
   "metadata": {},
   "outputs": [
    {
     "data": {
      "text/plain": [
       "19.878131877517447"
      ]
     },
     "execution_count": 36,
     "metadata": {},
     "output_type": "execute_result"
    }
   ],
   "source": [
    "# Finding the median value of population \n",
    "\n",
    "np.median(pop_values)"
   ]
  },
  {
   "cell_type": "code",
   "execution_count": 26,
   "id": "f0690a40",
   "metadata": {},
   "outputs": [],
   "source": [
    "# confirmed population is normally distributed"
   ]
  },
  {
   "cell_type": "code",
   "execution_count": 27,
   "id": "5ee886b6",
   "metadata": {},
   "outputs": [],
   "source": [
    "# Selecting or picking random values from population "
   ]
  },
  {
   "cell_type": "code",
   "execution_count": 37,
   "id": "0cfaeb55",
   "metadata": {},
   "outputs": [],
   "source": [
    "sample_data = np.random.choice(pop_values, size = 30, replace = False)"
   ]
  },
  {
   "cell_type": "code",
   "execution_count": 38,
   "id": "295389cb",
   "metadata": {},
   "outputs": [
    {
     "data": {
      "text/plain": [
       "array([17.82074986, 18.48026036, 20.95971848, 19.53100724, 17.78036815,\n",
       "       23.2672422 , 20.54969261, 23.11297927, 20.57287955, 19.22127716,\n",
       "       17.67270658, 17.80926371, 14.8896256 , 18.2821173 , 16.69149928,\n",
       "       19.30459854, 27.64570235, 21.7470671 , 21.80084558, 20.95490039,\n",
       "       19.99254445, 20.44498569, 20.19919761, 22.15068674, 18.37607746,\n",
       "       21.3005308 , 20.81555721, 17.79795757, 22.68840617, 19.79693844])"
      ]
     },
     "execution_count": 38,
     "metadata": {},
     "output_type": "execute_result"
    }
   ],
   "source": [
    "sample_data"
   ]
  },
  {
   "cell_type": "code",
   "execution_count": 39,
   "id": "94ca5fa4",
   "metadata": {},
   "outputs": [
    {
     "data": {
      "text/plain": [
       "30"
      ]
     },
     "execution_count": 39,
     "metadata": {},
     "output_type": "execute_result"
    }
   ],
   "source": [
    "len(sample_data)"
   ]
  },
  {
   "cell_type": "code",
   "execution_count": 40,
   "id": "3a669133",
   "metadata": {},
   "outputs": [
    {
     "data": {
      "text/plain": [
       "20.05524611518364"
      ]
     },
     "execution_count": 40,
     "metadata": {},
     "output_type": "execute_result"
    }
   ],
   "source": [
    "np.mean(sample_data)"
   ]
  },
  {
   "cell_type": "code",
   "execution_count": 41,
   "id": "93b057c1",
   "metadata": {},
   "outputs": [],
   "source": [
    "# Variance and Std"
   ]
  },
  {
   "cell_type": "code",
   "execution_count": 42,
   "id": "f36ca0aa",
   "metadata": {},
   "outputs": [
    {
     "data": {
      "text/plain": [
       "array([17.82074986, 18.48026036, 20.95971848, 19.53100724, 17.78036815,\n",
       "       23.2672422 , 20.54969261, 23.11297927, 20.57287955, 19.22127716,\n",
       "       17.67270658, 17.80926371, 14.8896256 , 18.2821173 , 16.69149928,\n",
       "       19.30459854, 27.64570235, 21.7470671 , 21.80084558, 20.95490039,\n",
       "       19.99254445, 20.44498569, 20.19919761, 22.15068674, 18.37607746,\n",
       "       21.3005308 , 20.81555721, 17.79795757, 22.68840617, 19.79693844])"
      ]
     },
     "execution_count": 42,
     "metadata": {},
     "output_type": "execute_result"
    }
   ],
   "source": [
    "sample_data"
   ]
  },
  {
   "cell_type": "code",
   "execution_count": 43,
   "id": "bf9addf3",
   "metadata": {},
   "outputs": [
    {
     "data": {
      "text/plain": [
       "5.76627120125715"
      ]
     },
     "execution_count": 43,
     "metadata": {},
     "output_type": "execute_result"
    }
   ],
   "source": [
    "np.var(sample_data)"
   ]
  },
  {
   "cell_type": "code",
   "execution_count": 44,
   "id": "fc26ca69",
   "metadata": {},
   "outputs": [
    {
     "data": {
      "text/plain": [
       "2.40130614484225"
      ]
     },
     "execution_count": 44,
     "metadata": {},
     "output_type": "execute_result"
    }
   ],
   "source": [
    "np.std(sample_data)"
   ]
  },
  {
   "cell_type": "code",
   "execution_count": 50,
   "id": "db26c56c",
   "metadata": {},
   "outputs": [],
   "source": [
    "val = [1,2,3,4,5, 60]"
   ]
  },
  {
   "cell_type": "code",
   "execution_count": 51,
   "id": "6ae94694",
   "metadata": {},
   "outputs": [
    {
     "data": {
      "text/plain": [
       "452.9166666666667"
      ]
     },
     "execution_count": 51,
     "metadata": {},
     "output_type": "execute_result"
    }
   ],
   "source": [
    "np.var(val)"
   ]
  },
  {
   "cell_type": "code",
   "execution_count": 52,
   "id": "74dd5d2f",
   "metadata": {},
   "outputs": [
    {
     "data": {
      "text/plain": [
       "12.5"
      ]
     },
     "execution_count": 52,
     "metadata": {},
     "output_type": "execute_result"
    }
   ],
   "source": [
    "np.mean(val)"
   ]
  },
  {
   "cell_type": "code",
   "execution_count": 53,
   "id": "25570ecd",
   "metadata": {},
   "outputs": [
    {
     "data": {
      "text/plain": [
       "3.5"
      ]
     },
     "execution_count": 53,
     "metadata": {},
     "output_type": "execute_result"
    }
   ],
   "source": [
    "np.median(val)"
   ]
  },
  {
   "cell_type": "code",
   "execution_count": 54,
   "id": "ca4f964d",
   "metadata": {},
   "outputs": [],
   "source": [
    "# var, std, normal dist, outlier "
   ]
  },
  {
   "cell_type": "markdown",
   "id": "850924be",
   "metadata": {},
   "source": [
    "# Hypo"
   ]
  },
  {
   "cell_type": "code",
   "execution_count": 55,
   "id": "bbb8ff75",
   "metadata": {},
   "outputs": [],
   "source": [
    "# Univariate selection -> One of the feature selection meathod"
   ]
  },
  {
   "cell_type": "markdown",
   "id": "6619582d",
   "metadata": {},
   "source": [
    "correlation -> continious variables\n",
    "\n",
    "3 types of testing \n",
    "\n",
    "1. ttest                --> continious to continious | cat to cat \n",
    "2. chi-squre test       --> cat to cat \n",
    "3. ANOVA test (one way) --> cat to continious \n",
    "\n",
    "\n",
    "\n",
    "Types of Hypothysis\n",
    "\n",
    "1. Null Hypothysis ---> 2 features are getting more correleated or there is no significent different\n",
    "2. Alternative Hypothysis --->  there is a significent different between two columns or features\n",
    "\n",
    "\n",
    "Reject null hypothysis ==== Alternative Hypothysis\n",
    "\n",
    "Accept null hypothysis ==== Null Hypothysis\n",
    "\n",
    "-------------------------------------------------------------------------------------------------------------------\n",
    "\n",
    "p-value => you will get it from all types of testing , ttest, chi, anova \n",
    "\n",
    "p-value => 0 to 1\n",
    "\n",
    "p-value threshold value => 0.05   => 5 %\n",
    "\n",
    "\n",
    "if p-vale < 0.05:\n",
    "    \n",
    "    reject null hypothysis\n",
    "    Alternative Hypothysis\n",
    "    there is a significent different between two columns\n",
    "\n",
    "\n",
    "if p-value > 0.05:\n",
    "\n",
    "    accept null hypothysis\n",
    "    there is no difference between columns or features\n",
    "    \n",
    "    \n",
    "\n",
    "\n",
    "\n",
    "\n"
   ]
  },
  {
   "cell_type": "code",
   "execution_count": null,
   "id": "2b7628a4",
   "metadata": {},
   "outputs": [],
   "source": []
  },
  {
   "cell_type": "code",
   "execution_count": null,
   "id": "fc60c3c2",
   "metadata": {},
   "outputs": [],
   "source": []
  },
  {
   "cell_type": "code",
   "execution_count": 74,
   "id": "1395d301",
   "metadata": {},
   "outputs": [],
   "source": [
    "data = pd.read_csv(\"data.csv\")"
   ]
  },
  {
   "cell_type": "markdown",
   "id": "379643cf",
   "metadata": {},
   "source": [
    "# Hypothysis"
   ]
  },
  {
   "cell_type": "code",
   "execution_count": null,
   "id": "e55ef8b6",
   "metadata": {},
   "outputs": [],
   "source": [
    "# t = (x - mean) / (std / sqrt(n))"
   ]
  },
  {
   "cell_type": "code",
   "execution_count": 60,
   "id": "4f29d8f8",
   "metadata": {},
   "outputs": [],
   "source": [
    "feat_1 = [1,2,3,4,5]\n",
    "\n",
    "feat_2 = [2,5,8,9,11]"
   ]
  },
  {
   "cell_type": "code",
   "execution_count": 63,
   "id": "02900e72",
   "metadata": {},
   "outputs": [],
   "source": [
    "_, p_value = stats.ttest_ind(feat_1, feat_2)"
   ]
  },
  {
   "cell_type": "code",
   "execution_count": 66,
   "id": "10c3f51f",
   "metadata": {},
   "outputs": [
    {
     "data": {
      "text/plain": [
       "Ttest_indResult(statistic=-2.3094010767585034, pvalue=0.04973556311940192)"
      ]
     },
     "execution_count": 66,
     "metadata": {},
     "output_type": "execute_result"
    }
   ],
   "source": [
    "stats.ttest_ind(feat_1, feat_2)"
   ]
  },
  {
   "cell_type": "code",
   "execution_count": 64,
   "id": "02cc34ce",
   "metadata": {},
   "outputs": [
    {
     "data": {
      "text/plain": [
       "0.04973556311940192"
      ]
     },
     "execution_count": 64,
     "metadata": {},
     "output_type": "execute_result"
    }
   ],
   "source": [
    "p_value"
   ]
  },
  {
   "cell_type": "code",
   "execution_count": 67,
   "id": "293874e3",
   "metadata": {},
   "outputs": [
    {
     "data": {
      "text/plain": [
       "True"
      ]
     },
     "execution_count": 67,
     "metadata": {},
     "output_type": "execute_result"
    }
   ],
   "source": [
    "p_value < 0.05"
   ]
  },
  {
   "cell_type": "code",
   "execution_count": 71,
   "id": "a56d0686",
   "metadata": {},
   "outputs": [],
   "source": [
    "def check_hypo(p):\n",
    "    if p < 0.05:\n",
    "\n",
    "        print(\"Reject Null Hypothysis \\nThere is a diff bw both features\")\n",
    "    else:\n",
    "        print(\"Accept Null Hypothysis \\nThere is no diff bw both features\")"
   ]
  },
  {
   "cell_type": "code",
   "execution_count": 72,
   "id": "40b17adb",
   "metadata": {},
   "outputs": [
    {
     "name": "stdout",
     "output_type": "stream",
     "text": [
      "Reject Null Hypothysis \n",
      "There is a diff bw both features\n"
     ]
    }
   ],
   "source": [
    "check_hypo(p_value)"
   ]
  },
  {
   "cell_type": "code",
   "execution_count": 75,
   "id": "38278fa9",
   "metadata": {},
   "outputs": [
    {
     "data": {
      "text/html": [
       "<div>\n",
       "<style scoped>\n",
       "    .dataframe tbody tr th:only-of-type {\n",
       "        vertical-align: middle;\n",
       "    }\n",
       "\n",
       "    .dataframe tbody tr th {\n",
       "        vertical-align: top;\n",
       "    }\n",
       "\n",
       "    .dataframe thead th {\n",
       "        text-align: right;\n",
       "    }\n",
       "</style>\n",
       "<table border=\"1\" class=\"dataframe\">\n",
       "  <thead>\n",
       "    <tr style=\"text-align: right;\">\n",
       "      <th></th>\n",
       "      <th>Education</th>\n",
       "      <th>JoiningYear</th>\n",
       "      <th>City</th>\n",
       "      <th>PaymentTier</th>\n",
       "      <th>Age</th>\n",
       "      <th>Sal</th>\n",
       "      <th>Gender</th>\n",
       "      <th>EverBenched</th>\n",
       "      <th>ExperienceInCurrentDomain</th>\n",
       "      <th>LeaveOrNot</th>\n",
       "    </tr>\n",
       "  </thead>\n",
       "  <tbody>\n",
       "    <tr>\n",
       "      <th>0</th>\n",
       "      <td>Bachelors</td>\n",
       "      <td>2017</td>\n",
       "      <td>Bangalore</td>\n",
       "      <td>3</td>\n",
       "      <td>34</td>\n",
       "      <td>3400</td>\n",
       "      <td>Male</td>\n",
       "      <td>No</td>\n",
       "      <td>0</td>\n",
       "      <td>0</td>\n",
       "    </tr>\n",
       "    <tr>\n",
       "      <th>1</th>\n",
       "      <td>Bachelors</td>\n",
       "      <td>2013</td>\n",
       "      <td>Pune</td>\n",
       "      <td>1</td>\n",
       "      <td>28</td>\n",
       "      <td>2800</td>\n",
       "      <td>Female</td>\n",
       "      <td>No</td>\n",
       "      <td>3</td>\n",
       "      <td>1</td>\n",
       "    </tr>\n",
       "    <tr>\n",
       "      <th>2</th>\n",
       "      <td>Bachelors</td>\n",
       "      <td>2014</td>\n",
       "      <td>New Delhi</td>\n",
       "      <td>3</td>\n",
       "      <td>38</td>\n",
       "      <td>3800</td>\n",
       "      <td>Female</td>\n",
       "      <td>No</td>\n",
       "      <td>2</td>\n",
       "      <td>0</td>\n",
       "    </tr>\n",
       "    <tr>\n",
       "      <th>3</th>\n",
       "      <td>Masters</td>\n",
       "      <td>2016</td>\n",
       "      <td>Bangalore</td>\n",
       "      <td>3</td>\n",
       "      <td>27</td>\n",
       "      <td>2700</td>\n",
       "      <td>Male</td>\n",
       "      <td>No</td>\n",
       "      <td>5</td>\n",
       "      <td>1</td>\n",
       "    </tr>\n",
       "    <tr>\n",
       "      <th>4</th>\n",
       "      <td>Masters</td>\n",
       "      <td>2017</td>\n",
       "      <td>Pune</td>\n",
       "      <td>3</td>\n",
       "      <td>24</td>\n",
       "      <td>2400</td>\n",
       "      <td>Male</td>\n",
       "      <td>Yes</td>\n",
       "      <td>2</td>\n",
       "      <td>1</td>\n",
       "    </tr>\n",
       "  </tbody>\n",
       "</table>\n",
       "</div>"
      ],
      "text/plain": [
       "   Education  JoiningYear       City  PaymentTier  Age   Sal  Gender  \\\n",
       "0  Bachelors         2017  Bangalore            3   34  3400    Male   \n",
       "1  Bachelors         2013       Pune            1   28  2800  Female   \n",
       "2  Bachelors         2014  New Delhi            3   38  3800  Female   \n",
       "3    Masters         2016  Bangalore            3   27  2700    Male   \n",
       "4    Masters         2017       Pune            3   24  2400    Male   \n",
       "\n",
       "  EverBenched  ExperienceInCurrentDomain  LeaveOrNot  \n",
       "0          No                          0           0  \n",
       "1          No                          3           1  \n",
       "2          No                          2           0  \n",
       "3          No                          5           1  \n",
       "4         Yes                          2           1  "
      ]
     },
     "execution_count": 75,
     "metadata": {},
     "output_type": "execute_result"
    }
   ],
   "source": [
    "data.head()"
   ]
  },
  {
   "cell_type": "code",
   "execution_count": 76,
   "id": "7e67b500",
   "metadata": {},
   "outputs": [
    {
     "data": {
      "text/plain": [
       "Ttest_indResult(statistic=26182.058423038066, pvalue=0.0)"
      ]
     },
     "execution_count": 76,
     "metadata": {},
     "output_type": "execute_result"
    }
   ],
   "source": [
    "stats.ttest_ind(data['JoiningYear'], data['Age'])"
   ]
  },
  {
   "cell_type": "code",
   "execution_count": 77,
   "id": "958d5e7a",
   "metadata": {},
   "outputs": [],
   "source": [
    "# Cont and Cata"
   ]
  },
  {
   "cell_type": "code",
   "execution_count": 78,
   "id": "d5f532b8",
   "metadata": {},
   "outputs": [],
   "source": [
    "# male -> sal    |\n",
    "# female -> sal  |. comparing or finding relationship bw both male and female sal"
   ]
  },
  {
   "cell_type": "code",
   "execution_count": 81,
   "id": "fd78c60d",
   "metadata": {},
   "outputs": [],
   "source": [
    "mal_sal = data[data['Gender']=='Male']['Sal']\n",
    "fem_sal = data[data['Gender']=='Female']['Sal']"
   ]
  },
  {
   "cell_type": "code",
   "execution_count": 93,
   "id": "d7861445",
   "metadata": {},
   "outputs": [],
   "source": [
    "_, p_value = stats.f_oneway(mal_sal, fem_sal)"
   ]
  },
  {
   "cell_type": "code",
   "execution_count": 94,
   "id": "ff450d41",
   "metadata": {},
   "outputs": [
    {
     "data": {
      "text/plain": [
       "0.7920786580742085"
      ]
     },
     "execution_count": 94,
     "metadata": {},
     "output_type": "execute_result"
    }
   ],
   "source": [
    "p_value"
   ]
  },
  {
   "cell_type": "code",
   "execution_count": 95,
   "id": "02b9c671",
   "metadata": {},
   "outputs": [
    {
     "name": "stdout",
     "output_type": "stream",
     "text": [
      "Accept Null Hypothysis \n",
      "There is no diff bw both features\n"
     ]
    }
   ],
   "source": [
    "check_hypo(p_value)"
   ]
  },
  {
   "cell_type": "code",
   "execution_count": 96,
   "id": "95c54d99",
   "metadata": {},
   "outputs": [],
   "source": [
    "# Chi2 test "
   ]
  },
  {
   "cell_type": "code",
   "execution_count": 97,
   "id": "01480ee7",
   "metadata": {},
   "outputs": [],
   "source": [
    "f1 = [1,1,1,1,0,0,1,1]\n",
    "f2 = [0,1,0,1,1,1,0,0]"
   ]
  },
  {
   "cell_type": "code",
   "execution_count": 98,
   "id": "3ac79f7d",
   "metadata": {},
   "outputs": [],
   "source": [
    "df = pd.DataFrame({\n",
    "    \"c1\": f1,\n",
    "    \"c2\": f2\n",
    "})"
   ]
  },
  {
   "cell_type": "code",
   "execution_count": 99,
   "id": "0d3fd592",
   "metadata": {},
   "outputs": [
    {
     "data": {
      "text/html": [
       "<div>\n",
       "<style scoped>\n",
       "    .dataframe tbody tr th:only-of-type {\n",
       "        vertical-align: middle;\n",
       "    }\n",
       "\n",
       "    .dataframe tbody tr th {\n",
       "        vertical-align: top;\n",
       "    }\n",
       "\n",
       "    .dataframe thead th {\n",
       "        text-align: right;\n",
       "    }\n",
       "</style>\n",
       "<table border=\"1\" class=\"dataframe\">\n",
       "  <thead>\n",
       "    <tr style=\"text-align: right;\">\n",
       "      <th></th>\n",
       "      <th>c1</th>\n",
       "      <th>c2</th>\n",
       "    </tr>\n",
       "  </thead>\n",
       "  <tbody>\n",
       "    <tr>\n",
       "      <th>0</th>\n",
       "      <td>1</td>\n",
       "      <td>0</td>\n",
       "    </tr>\n",
       "    <tr>\n",
       "      <th>1</th>\n",
       "      <td>1</td>\n",
       "      <td>1</td>\n",
       "    </tr>\n",
       "    <tr>\n",
       "      <th>2</th>\n",
       "      <td>1</td>\n",
       "      <td>0</td>\n",
       "    </tr>\n",
       "    <tr>\n",
       "      <th>3</th>\n",
       "      <td>1</td>\n",
       "      <td>1</td>\n",
       "    </tr>\n",
       "    <tr>\n",
       "      <th>4</th>\n",
       "      <td>0</td>\n",
       "      <td>1</td>\n",
       "    </tr>\n",
       "    <tr>\n",
       "      <th>5</th>\n",
       "      <td>0</td>\n",
       "      <td>1</td>\n",
       "    </tr>\n",
       "    <tr>\n",
       "      <th>6</th>\n",
       "      <td>1</td>\n",
       "      <td>0</td>\n",
       "    </tr>\n",
       "    <tr>\n",
       "      <th>7</th>\n",
       "      <td>1</td>\n",
       "      <td>0</td>\n",
       "    </tr>\n",
       "  </tbody>\n",
       "</table>\n",
       "</div>"
      ],
      "text/plain": [
       "   c1  c2\n",
       "0   1   0\n",
       "1   1   1\n",
       "2   1   0\n",
       "3   1   1\n",
       "4   0   1\n",
       "5   0   1\n",
       "6   1   0\n",
       "7   1   0"
      ]
     },
     "execution_count": 99,
     "metadata": {},
     "output_type": "execute_result"
    }
   ],
   "source": [
    "df"
   ]
  },
  {
   "cell_type": "code",
   "execution_count": 100,
   "id": "335b908f",
   "metadata": {},
   "outputs": [],
   "source": [
    "# c2 = (OV- EV) / EV # OV- Observed Value, EV - Expected Value"
   ]
  },
  {
   "cell_type": "code",
   "execution_count": 101,
   "id": "6e1e1ea1",
   "metadata": {},
   "outputs": [
    {
     "data": {
      "text/plain": [
       "Chi2ContingencyResult(statistic=5.833333333333334, pvalue=0.5593395827820361, dof=7, expected_freq=array([[0.6, 0.4],\n",
       "       [1.2, 0.8],\n",
       "       [0.6, 0.4],\n",
       "       [1.2, 0.8],\n",
       "       [0.6, 0.4],\n",
       "       [0.6, 0.4],\n",
       "       [0.6, 0.4],\n",
       "       [0.6, 0.4]]))"
      ]
     },
     "execution_count": 101,
     "metadata": {},
     "output_type": "execute_result"
    }
   ],
   "source": [
    "stats.chi2_contingency(df)"
   ]
  },
  {
   "cell_type": "code",
   "execution_count": 102,
   "id": "618be4fa",
   "metadata": {},
   "outputs": [],
   "source": [
    "_, p_value, _,_ = stats.chi2_contingency(df)"
   ]
  },
  {
   "cell_type": "code",
   "execution_count": 103,
   "id": "9f7b111e",
   "metadata": {},
   "outputs": [
    {
     "data": {
      "text/plain": [
       "0.5593395827820361"
      ]
     },
     "execution_count": 103,
     "metadata": {},
     "output_type": "execute_result"
    }
   ],
   "source": [
    "p_value"
   ]
  },
  {
   "cell_type": "code",
   "execution_count": 104,
   "id": "eb4fc7f2",
   "metadata": {},
   "outputs": [
    {
     "name": "stdout",
     "output_type": "stream",
     "text": [
      "Accept Null Hypothysis \n",
      "There is no diff bw both features\n"
     ]
    }
   ],
   "source": [
    "check_hypo(p_value)"
   ]
  },
  {
   "cell_type": "code",
   "execution_count": null,
   "id": "5dbd2ead",
   "metadata": {},
   "outputs": [],
   "source": []
  },
  {
   "cell_type": "code",
   "execution_count": null,
   "id": "4db7fc0a",
   "metadata": {},
   "outputs": [],
   "source": []
  },
  {
   "cell_type": "code",
   "execution_count": null,
   "id": "86c3694b",
   "metadata": {},
   "outputs": [],
   "source": []
  },
  {
   "cell_type": "code",
   "execution_count": 105,
   "id": "f1fb0b6f",
   "metadata": {},
   "outputs": [],
   "source": [
    "# Covariance "
   ]
  },
  {
   "cell_type": "code",
   "execution_count": 106,
   "id": "1ae9f876",
   "metadata": {},
   "outputs": [],
   "source": [
    "# cov. = (x- mean of x) (y - mean of y)    /     N       -> population covariance \n",
    "# cov. = (x- mean of x) (y - mean of y)    /     N - 1   -> sample covariance"
   ]
  },
  {
   "cell_type": "code",
   "execution_count": 107,
   "id": "fa9b5dd8",
   "metadata": {},
   "outputs": [],
   "source": [
    "a = [1,2,3,4,5,6,7]\n",
    "b = [7,6,5,4,3,2,1]"
   ]
  },
  {
   "cell_type": "code",
   "execution_count": 119,
   "id": "abfd9f2d",
   "metadata": {},
   "outputs": [],
   "source": [
    "v1 = np.cov(a,b)"
   ]
  },
  {
   "cell_type": "code",
   "execution_count": 120,
   "id": "437246df",
   "metadata": {},
   "outputs": [
    {
     "data": {
      "text/plain": [
       "array([[ 4.66666667, -4.66666667],\n",
       "       [-4.66666667,  4.66666667]])"
      ]
     },
     "execution_count": 120,
     "metadata": {},
     "output_type": "execute_result"
    }
   ],
   "source": [
    "v1"
   ]
  },
  {
   "cell_type": "code",
   "execution_count": 121,
   "id": "5d9812d4",
   "metadata": {},
   "outputs": [],
   "source": [
    "v1 = v1/4.66666667"
   ]
  },
  {
   "cell_type": "code",
   "execution_count": 122,
   "id": "959c8160",
   "metadata": {},
   "outputs": [
    {
     "data": {
      "text/plain": [
       "array([[ 1., -1.],\n",
       "       [-1.,  1.]])"
      ]
     },
     "execution_count": 122,
     "metadata": {},
     "output_type": "execute_result"
    }
   ],
   "source": [
    "v1"
   ]
  },
  {
   "cell_type": "code",
   "execution_count": 123,
   "id": "e578fa17",
   "metadata": {},
   "outputs": [
    {
     "data": {
      "text/plain": [
       "-0.9999999992857143"
      ]
     },
     "execution_count": 123,
     "metadata": {},
     "output_type": "execute_result"
    }
   ],
   "source": [
    "v1[0,1]"
   ]
  },
  {
   "cell_type": "code",
   "execution_count": null,
   "id": "3417342a",
   "metadata": {},
   "outputs": [],
   "source": []
  },
  {
   "cell_type": "code",
   "execution_count": null,
   "id": "1f18b088",
   "metadata": {},
   "outputs": [],
   "source": []
  },
  {
   "cell_type": "code",
   "execution_count": 124,
   "id": "5977b5f2",
   "metadata": {},
   "outputs": [],
   "source": [
    "\"\"\"Example : 2\n",
    "    \"\"\"\n",
    "\n",
    "\n",
    "a = [1,2,3,4,5,6,7]\n",
    "b = [7,6,7,4,1,2,1]"
   ]
  },
  {
   "cell_type": "code",
   "execution_count": 126,
   "id": "bb1a78f3",
   "metadata": {},
   "outputs": [
    {
     "data": {
      "text/plain": [
       "array([[ 0.63926941, -0.73059361],\n",
       "       [-0.73059361,  1.00456621]])"
      ]
     },
     "execution_count": 126,
     "metadata": {},
     "output_type": "execute_result"
    }
   ],
   "source": [
    "np.cov(a, b)/ 7.3"
   ]
  },
  {
   "cell_type": "code",
   "execution_count": 130,
   "id": "88fc965a",
   "metadata": {},
   "outputs": [
    {
     "data": {
      "text/plain": [
       "array([[1.        , 0.00508319],\n",
       "       [0.00508319, 0.14907715]])"
      ]
     },
     "execution_count": 130,
     "metadata": {},
     "output_type": "execute_result"
    }
   ],
   "source": [
    "np.cov(data['Age'], data['JoiningYear'])/23.291115819655374"
   ]
  },
  {
   "cell_type": "code",
   "execution_count": null,
   "id": "8ad7c404",
   "metadata": {},
   "outputs": [],
   "source": []
  },
  {
   "cell_type": "code",
   "execution_count": null,
   "id": "ed275f08",
   "metadata": {},
   "outputs": [],
   "source": []
  },
  {
   "cell_type": "code",
   "execution_count": null,
   "id": "db6038b1",
   "metadata": {},
   "outputs": [],
   "source": []
  },
  {
   "cell_type": "code",
   "execution_count": null,
   "id": "2cbe8540",
   "metadata": {},
   "outputs": [],
   "source": []
  },
  {
   "cell_type": "code",
   "execution_count": 131,
   "id": "d59193cd",
   "metadata": {},
   "outputs": [],
   "source": [
    "# rough"
   ]
  },
  {
   "cell_type": "code",
   "execution_count": null,
   "id": "d61f7350",
   "metadata": {},
   "outputs": [],
   "source": []
  },
  {
   "cell_type": "code",
   "execution_count": null,
   "id": "e96f7a1d",
   "metadata": {},
   "outputs": [],
   "source": []
  }
 ],
 "metadata": {
  "kernelspec": {
   "display_name": "Python 3",
   "language": "python",
   "name": "python3"
  },
  "language_info": {
   "codemirror_mode": {
    "name": "ipython",
    "version": 3
   },
   "file_extension": ".py",
   "mimetype": "text/x-python",
   "name": "python",
   "nbconvert_exporter": "python",
   "pygments_lexer": "ipython3",
   "version": "3.8.8"
  }
 },
 "nbformat": 4,
 "nbformat_minor": 5
}
